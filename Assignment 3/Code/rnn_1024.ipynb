{
  "nbformat": 4,
  "nbformat_minor": 0,
  "metadata": {
    "colab": {
      "name": "Untitled1.ipynb",
      "provenance": []
    },
    "kernelspec": {
      "name": "python3",
      "display_name": "Python 3"
    },
    "language_info": {
      "name": "python"
    },
    "accelerator": "GPU"
  },
  "cells": [
    {
      "cell_type": "code",
      "execution_count": 1,
      "metadata": {
        "id": "9thhYuanpkRd",
        "colab": {
          "base_uri": "https://localhost:8080/",
          "height": 35
        },
        "outputId": "6c1eb6db-641a-40cd-8fa1-3c35d4088049"
      },
      "outputs": [
        {
          "output_type": "execute_result",
          "data": {
            "text/plain": [
              "'2.8.0'"
            ],
            "application/vnd.google.colaboratory.intrinsic+json": {
              "type": "string"
            }
          },
          "metadata": {},
          "execution_count": 1
        }
      ],
      "source": [
        "import numpy as np\n",
        "import pandas as pd\n",
        "import matplotlib.pyplot as plt\n",
        "import tensorflow as tf\n",
        "\n",
        "tf.__version__"
      ]
    },
    {
      "cell_type": "code",
      "source": [
        "path_to_file = 'shakespeare.txt'\n",
        "\n",
        "text = open(path_to_file, 'r').read()\n",
        "\n",
        "print(text[:500])"
      ],
      "metadata": {
        "colab": {
          "base_uri": "https://localhost:8080/"
        },
        "id": "vmW7hq6-c2ni",
        "outputId": "c8da2229-831a-43df-d1cd-1998c0a07394"
      },
      "execution_count": 2,
      "outputs": [
        {
          "output_type": "stream",
          "name": "stdout",
          "text": [
            "\n",
            "                     1\n",
            "  From fairest creatures we desire increase,\n",
            "  That thereby beauty's rose might never die,\n",
            "  But as the riper should by time decease,\n",
            "  His tender heir might bear his memory:\n",
            "  But thou contracted to thine own bright eyes,\n",
            "  Feed'st thy light's flame with self-substantial fuel,\n",
            "  Making a famine where abundance lies,\n",
            "  Thy self thy foe, to thy sweet self too cruel:\n",
            "  Thou that art now the world's fresh ornament,\n",
            "  And only herald to the gaudy spring,\n",
            "  Within thine own bu\n"
          ]
        }
      ]
    },
    {
      "cell_type": "code",
      "source": [
        "# The unique characters in the file\n",
        "vocab = sorted(set(text))\n",
        "print(vocab)\n",
        "len(vocab)"
      ],
      "metadata": {
        "colab": {
          "base_uri": "https://localhost:8080/"
        },
        "id": "IsYA-xS-c6BL",
        "outputId": "e8a26084-7669-4d06-ff30-ebbda1770814"
      },
      "execution_count": 3,
      "outputs": [
        {
          "output_type": "stream",
          "name": "stdout",
          "text": [
            "['\\n', ' ', '!', '\"', '&', \"'\", '(', ')', ',', '-', '.', '0', '1', '2', '3', '4', '5', '6', '7', '8', '9', ':', ';', '<', '>', '?', 'A', 'B', 'C', 'D', 'E', 'F', 'G', 'H', 'I', 'J', 'K', 'L', 'M', 'N', 'O', 'P', 'Q', 'R', 'S', 'T', 'U', 'V', 'W', 'X', 'Y', 'Z', '[', ']', '_', 'a', 'b', 'c', 'd', 'e', 'f', 'g', 'h', 'i', 'j', 'k', 'l', 'm', 'n', 'o', 'p', 'q', 'r', 's', 't', 'u', 'v', 'w', 'x', 'y', 'z', '|']\n"
          ]
        },
        {
          "output_type": "execute_result",
          "data": {
            "text/plain": [
              "82"
            ]
          },
          "metadata": {},
          "execution_count": 3
        }
      ]
    },
    {
      "cell_type": "code",
      "source": [
        "# ## Step 2: Text Processing\n",
        "\n",
        "# ### Text Vectorization\n",
        "#\n",
        "# We know a neural network can't take in the raw string data, we need to assign numbers to each character. Let's create two dictionaries that can go from numeric index to character and character to numeric index.\n",
        "\n",
        "\n",
        "char_to_ind = {u: i for i, u in enumerate(vocab)}\n",
        "\n",
        "char_to_ind"
      ],
      "metadata": {
        "colab": {
          "base_uri": "https://localhost:8080/"
        },
        "id": "zdtjOoP8c8IN",
        "outputId": "e16c1e55-fc4d-46a5-d372-009271c18b36"
      },
      "execution_count": 4,
      "outputs": [
        {
          "output_type": "execute_result",
          "data": {
            "text/plain": [
              "{'\\n': 0,\n",
              " ' ': 1,\n",
              " '!': 2,\n",
              " '\"': 3,\n",
              " '&': 4,\n",
              " \"'\": 5,\n",
              " '(': 6,\n",
              " ')': 7,\n",
              " ',': 8,\n",
              " '-': 9,\n",
              " '.': 10,\n",
              " '0': 11,\n",
              " '1': 12,\n",
              " '2': 13,\n",
              " '3': 14,\n",
              " '4': 15,\n",
              " '5': 16,\n",
              " '6': 17,\n",
              " '7': 18,\n",
              " '8': 19,\n",
              " '9': 20,\n",
              " ':': 21,\n",
              " ';': 22,\n",
              " '<': 23,\n",
              " '>': 24,\n",
              " '?': 25,\n",
              " 'A': 26,\n",
              " 'B': 27,\n",
              " 'C': 28,\n",
              " 'D': 29,\n",
              " 'E': 30,\n",
              " 'F': 31,\n",
              " 'G': 32,\n",
              " 'H': 33,\n",
              " 'I': 34,\n",
              " 'J': 35,\n",
              " 'K': 36,\n",
              " 'L': 37,\n",
              " 'M': 38,\n",
              " 'N': 39,\n",
              " 'O': 40,\n",
              " 'P': 41,\n",
              " 'Q': 42,\n",
              " 'R': 43,\n",
              " 'S': 44,\n",
              " 'T': 45,\n",
              " 'U': 46,\n",
              " 'V': 47,\n",
              " 'W': 48,\n",
              " 'X': 49,\n",
              " 'Y': 50,\n",
              " 'Z': 51,\n",
              " '[': 52,\n",
              " ']': 53,\n",
              " '_': 54,\n",
              " 'a': 55,\n",
              " 'b': 56,\n",
              " 'c': 57,\n",
              " 'd': 58,\n",
              " 'e': 59,\n",
              " 'f': 60,\n",
              " 'g': 61,\n",
              " 'h': 62,\n",
              " 'i': 63,\n",
              " 'j': 64,\n",
              " 'k': 65,\n",
              " 'l': 66,\n",
              " 'm': 67,\n",
              " 'n': 68,\n",
              " 'o': 69,\n",
              " 'p': 70,\n",
              " 'q': 71,\n",
              " 'r': 72,\n",
              " 's': 73,\n",
              " 't': 74,\n",
              " 'u': 75,\n",
              " 'v': 76,\n",
              " 'w': 77,\n",
              " 'x': 78,\n",
              " 'y': 79,\n",
              " 'z': 80,\n",
              " '|': 81}"
            ]
          },
          "metadata": {},
          "execution_count": 4
        }
      ]
    },
    {
      "cell_type": "code",
      "source": [
        "ind_to_char = np.array(vocab)\n",
        "ind_to_char"
      ],
      "metadata": {
        "colab": {
          "base_uri": "https://localhost:8080/"
        },
        "id": "ZMpUTm22c-F8",
        "outputId": "1cff92fd-765a-4faa-bd53-fc9f689ea902"
      },
      "execution_count": 5,
      "outputs": [
        {
          "output_type": "execute_result",
          "data": {
            "text/plain": [
              "array(['\\n', ' ', '!', '\"', '&', \"'\", '(', ')', ',', '-', '.', '0', '1',\n",
              "       '2', '3', '4', '5', '6', '7', '8', '9', ':', ';', '<', '>', '?',\n",
              "       'A', 'B', 'C', 'D', 'E', 'F', 'G', 'H', 'I', 'J', 'K', 'L', 'M',\n",
              "       'N', 'O', 'P', 'Q', 'R', 'S', 'T', 'U', 'V', 'W', 'X', 'Y', 'Z',\n",
              "       '[', ']', '_', 'a', 'b', 'c', 'd', 'e', 'f', 'g', 'h', 'i', 'j',\n",
              "       'k', 'l', 'm', 'n', 'o', 'p', 'q', 'r', 's', 't', 'u', 'v', 'w',\n",
              "       'x', 'y', 'z', '|'], dtype='<U1')"
            ]
          },
          "metadata": {},
          "execution_count": 5
        }
      ]
    },
    {
      "cell_type": "code",
      "source": [
        "encoded_text = np.array([char_to_ind[c] for c in text])\n",
        "encoded_text"
      ],
      "metadata": {
        "colab": {
          "base_uri": "https://localhost:8080/"
        },
        "id": "6Z6mydKJc_s8",
        "outputId": "81253e76-4281-4667-8d00-a22eaf2c3f4e"
      },
      "execution_count": 6,
      "outputs": [
        {
          "output_type": "execute_result",
          "data": {
            "text/plain": [
              "array([ 0,  1,  1, ..., 50, 59, 73])"
            ]
          },
          "metadata": {},
          "execution_count": 6
        }
      ]
    },
    {
      "cell_type": "code",
      "source": [
        "# We now have a mapping we can use to go back and forth from characters to numerics.\n",
        "\n",
        "sample = text[:20]\n",
        "\n",
        "print(sample)\n",
        "\n",
        "print(encoded_text[:20])"
      ],
      "metadata": {
        "colab": {
          "base_uri": "https://localhost:8080/"
        },
        "id": "ppMQihoXc_1X",
        "outputId": "dfdd3247-a48c-47c0-ec5a-1d6a5512dbfd"
      },
      "execution_count": 7,
      "outputs": [
        {
          "output_type": "stream",
          "name": "stdout",
          "text": [
            "\n",
            "                   \n",
            "[0 1 1 1 1 1 1 1 1 1 1 1 1 1 1 1 1 1 1 1]\n"
          ]
        }
      ]
    },
    {
      "cell_type": "code",
      "source": [
        "# ## Step 3: Creating Batches\n",
        "#\n",
        "# Overall what we are trying to achieve is to have the model predict the next highest probability character given a historical sequence of characters. Its up to us (the user) to choose how long that historic sequence is. Too short a sequence and we don't have enough information (e.g. given the letter \"a\" , what is the next character?) , too long a sequence and training will take too long and most likely overfit to sequence characters that are irrelevant to characters farther out. While there is no correct sequence length choice, you should consider the text itself, how long normal phrases are in it, and a reasonable idea of what characters/words are relevant to each other.\n",
        "\n",
        "\n",
        "print(text[:500])\n",
        "\n",
        "line = \"From fairest creatures we desire increase\"\n",
        "\n",
        "len(line)"
      ],
      "metadata": {
        "colab": {
          "base_uri": "https://localhost:8080/"
        },
        "id": "wy342XwrdDQJ",
        "outputId": "380d4d9f-34bb-4998-cfc3-5f76fe142577"
      },
      "execution_count": 8,
      "outputs": [
        {
          "output_type": "stream",
          "name": "stdout",
          "text": [
            "\n",
            "                     1\n",
            "  From fairest creatures we desire increase,\n",
            "  That thereby beauty's rose might never die,\n",
            "  But as the riper should by time decease,\n",
            "  His tender heir might bear his memory:\n",
            "  But thou contracted to thine own bright eyes,\n",
            "  Feed'st thy light's flame with self-substantial fuel,\n",
            "  Making a famine where abundance lies,\n",
            "  Thy self thy foe, to thy sweet self too cruel:\n",
            "  Thou that art now the world's fresh ornament,\n",
            "  And only herald to the gaudy spring,\n",
            "  Within thine own bu\n"
          ]
        },
        {
          "output_type": "execute_result",
          "data": {
            "text/plain": [
              "41"
            ]
          },
          "metadata": {},
          "execution_count": 8
        }
      ]
    },
    {
      "cell_type": "code",
      "source": [
        "part_stanza = \"\"\"From fairest creatures we desire increase,\n",
        "  That thereby beauty's rose might never die,\n",
        "  But as the riper should by time decease,\"\"\"\n",
        "\n",
        "len(part_stanza)"
      ],
      "metadata": {
        "colab": {
          "base_uri": "https://localhost:8080/"
        },
        "id": "EPvaLR2SdE7k",
        "outputId": "75bd4109-1ff2-49fc-a3e4-25fbbcf14ca0"
      },
      "execution_count": 9,
      "outputs": [
        {
          "output_type": "execute_result",
          "data": {
            "text/plain": [
              "131"
            ]
          },
          "metadata": {},
          "execution_count": 9
        }
      ]
    },
    {
      "cell_type": "code",
      "source": [
        "# ### Training Sequences\n",
        "#\n",
        "# The actual text data will be the text sequence shifted one character forward. For example:\n",
        "#\n",
        "# Sequence In: \"Hello my nam\"\n",
        "# Sequence Out: \"ello my name\"\n",
        "#\n",
        "#\n",
        "# We can use the `tf.data.Dataset.from_tensor_slices` function to convert a text vector into a stream of character indices.\n",
        "\n",
        "\n",
        "seq_len = 120\n",
        "\n",
        "total_num_seq = len(text) // (seq_len + 1)\n",
        "\n",
        "total_num_seq"
      ],
      "metadata": {
        "colab": {
          "base_uri": "https://localhost:8080/"
        },
        "id": "2K1dRm90dHaP",
        "outputId": "6989c6b8-cdcb-40a4-ea0a-50984eae5715"
      },
      "execution_count": 10,
      "outputs": [
        {
          "output_type": "execute_result",
          "data": {
            "text/plain": [
              "8665"
            ]
          },
          "metadata": {},
          "execution_count": 10
        }
      ]
    },
    {
      "cell_type": "code",
      "source": [
        "# Create Training Sequences\n",
        "char_dataset = tf.data.Dataset.from_tensor_slices(encoded_text)\n",
        "\n",
        "for i in char_dataset.take(500):\n",
        "    print(ind_to_char[i.numpy()])"
      ],
      "metadata": {
        "colab": {
          "base_uri": "https://localhost:8080/"
        },
        "id": "DW8QxwhZdIjr",
        "outputId": "2c64baae-32de-4175-c73b-ab9500385458"
      },
      "execution_count": 11,
      "outputs": [
        {
          "output_type": "stream",
          "name": "stdout",
          "text": [
            "\n",
            "\n",
            " \n",
            " \n",
            " \n",
            " \n",
            " \n",
            " \n",
            " \n",
            " \n",
            " \n",
            " \n",
            " \n",
            " \n",
            " \n",
            " \n",
            " \n",
            " \n",
            " \n",
            " \n",
            " \n",
            " \n",
            " \n",
            "1\n",
            "\n",
            "\n",
            " \n",
            " \n",
            "F\n",
            "r\n",
            "o\n",
            "m\n",
            " \n",
            "f\n",
            "a\n",
            "i\n",
            "r\n",
            "e\n",
            "s\n",
            "t\n",
            " \n",
            "c\n",
            "r\n",
            "e\n",
            "a\n",
            "t\n",
            "u\n",
            "r\n",
            "e\n",
            "s\n",
            " \n",
            "w\n",
            "e\n",
            " \n",
            "d\n",
            "e\n",
            "s\n",
            "i\n",
            "r\n",
            "e\n",
            " \n",
            "i\n",
            "n\n",
            "c\n",
            "r\n",
            "e\n",
            "a\n",
            "s\n",
            "e\n",
            ",\n",
            "\n",
            "\n",
            " \n",
            " \n",
            "T\n",
            "h\n",
            "a\n",
            "t\n",
            " \n",
            "t\n",
            "h\n",
            "e\n",
            "r\n",
            "e\n",
            "b\n",
            "y\n",
            " \n",
            "b\n",
            "e\n",
            "a\n",
            "u\n",
            "t\n",
            "y\n",
            "'\n",
            "s\n",
            " \n",
            "r\n",
            "o\n",
            "s\n",
            "e\n",
            " \n",
            "m\n",
            "i\n",
            "g\n",
            "h\n",
            "t\n",
            " \n",
            "n\n",
            "e\n",
            "v\n",
            "e\n",
            "r\n",
            " \n",
            "d\n",
            "i\n",
            "e\n",
            ",\n",
            "\n",
            "\n",
            " \n",
            " \n",
            "B\n",
            "u\n",
            "t\n",
            " \n",
            "a\n",
            "s\n",
            " \n",
            "t\n",
            "h\n",
            "e\n",
            " \n",
            "r\n",
            "i\n",
            "p\n",
            "e\n",
            "r\n",
            " \n",
            "s\n",
            "h\n",
            "o\n",
            "u\n",
            "l\n",
            "d\n",
            " \n",
            "b\n",
            "y\n",
            " \n",
            "t\n",
            "i\n",
            "m\n",
            "e\n",
            " \n",
            "d\n",
            "e\n",
            "c\n",
            "e\n",
            "a\n",
            "s\n",
            "e\n",
            ",\n",
            "\n",
            "\n",
            " \n",
            " \n",
            "H\n",
            "i\n",
            "s\n",
            " \n",
            "t\n",
            "e\n",
            "n\n",
            "d\n",
            "e\n",
            "r\n",
            " \n",
            "h\n",
            "e\n",
            "i\n",
            "r\n",
            " \n",
            "m\n",
            "i\n",
            "g\n",
            "h\n",
            "t\n",
            " \n",
            "b\n",
            "e\n",
            "a\n",
            "r\n",
            " \n",
            "h\n",
            "i\n",
            "s\n",
            " \n",
            "m\n",
            "e\n",
            "m\n",
            "o\n",
            "r\n",
            "y\n",
            ":\n",
            "\n",
            "\n",
            " \n",
            " \n",
            "B\n",
            "u\n",
            "t\n",
            " \n",
            "t\n",
            "h\n",
            "o\n",
            "u\n",
            " \n",
            "c\n",
            "o\n",
            "n\n",
            "t\n",
            "r\n",
            "a\n",
            "c\n",
            "t\n",
            "e\n",
            "d\n",
            " \n",
            "t\n",
            "o\n",
            " \n",
            "t\n",
            "h\n",
            "i\n",
            "n\n",
            "e\n",
            " \n",
            "o\n",
            "w\n",
            "n\n",
            " \n",
            "b\n",
            "r\n",
            "i\n",
            "g\n",
            "h\n",
            "t\n",
            " \n",
            "e\n",
            "y\n",
            "e\n",
            "s\n",
            ",\n",
            "\n",
            "\n",
            " \n",
            " \n",
            "F\n",
            "e\n",
            "e\n",
            "d\n",
            "'\n",
            "s\n",
            "t\n",
            " \n",
            "t\n",
            "h\n",
            "y\n",
            " \n",
            "l\n",
            "i\n",
            "g\n",
            "h\n",
            "t\n",
            "'\n",
            "s\n",
            " \n",
            "f\n",
            "l\n",
            "a\n",
            "m\n",
            "e\n",
            " \n",
            "w\n",
            "i\n",
            "t\n",
            "h\n",
            " \n",
            "s\n",
            "e\n",
            "l\n",
            "f\n",
            "-\n",
            "s\n",
            "u\n",
            "b\n",
            "s\n",
            "t\n",
            "a\n",
            "n\n",
            "t\n",
            "i\n",
            "a\n",
            "l\n",
            " \n",
            "f\n",
            "u\n",
            "e\n",
            "l\n",
            ",\n",
            "\n",
            "\n",
            " \n",
            " \n",
            "M\n",
            "a\n",
            "k\n",
            "i\n",
            "n\n",
            "g\n",
            " \n",
            "a\n",
            " \n",
            "f\n",
            "a\n",
            "m\n",
            "i\n",
            "n\n",
            "e\n",
            " \n",
            "w\n",
            "h\n",
            "e\n",
            "r\n",
            "e\n",
            " \n",
            "a\n",
            "b\n",
            "u\n",
            "n\n",
            "d\n",
            "a\n",
            "n\n",
            "c\n",
            "e\n",
            " \n",
            "l\n",
            "i\n",
            "e\n",
            "s\n",
            ",\n",
            "\n",
            "\n",
            " \n",
            " \n",
            "T\n",
            "h\n",
            "y\n",
            " \n",
            "s\n",
            "e\n",
            "l\n",
            "f\n",
            " \n",
            "t\n",
            "h\n",
            "y\n",
            " \n",
            "f\n",
            "o\n",
            "e\n",
            ",\n",
            " \n",
            "t\n",
            "o\n",
            " \n",
            "t\n",
            "h\n",
            "y\n",
            " \n",
            "s\n",
            "w\n",
            "e\n",
            "e\n",
            "t\n",
            " \n",
            "s\n",
            "e\n",
            "l\n",
            "f\n",
            " \n",
            "t\n",
            "o\n",
            "o\n",
            " \n",
            "c\n",
            "r\n",
            "u\n",
            "e\n",
            "l\n",
            ":\n",
            "\n",
            "\n",
            " \n",
            " \n",
            "T\n",
            "h\n",
            "o\n",
            "u\n",
            " \n",
            "t\n",
            "h\n",
            "a\n",
            "t\n",
            " \n",
            "a\n",
            "r\n",
            "t\n",
            " \n",
            "n\n",
            "o\n",
            "w\n",
            " \n",
            "t\n",
            "h\n",
            "e\n",
            " \n",
            "w\n",
            "o\n",
            "r\n",
            "l\n",
            "d\n",
            "'\n",
            "s\n",
            " \n",
            "f\n",
            "r\n",
            "e\n",
            "s\n",
            "h\n",
            " \n",
            "o\n",
            "r\n",
            "n\n",
            "a\n",
            "m\n",
            "e\n",
            "n\n",
            "t\n",
            ",\n",
            "\n",
            "\n",
            " \n",
            " \n",
            "A\n",
            "n\n",
            "d\n",
            " \n",
            "o\n",
            "n\n",
            "l\n",
            "y\n",
            " \n",
            "h\n",
            "e\n",
            "r\n",
            "a\n",
            "l\n",
            "d\n",
            " \n",
            "t\n",
            "o\n",
            " \n",
            "t\n",
            "h\n",
            "e\n",
            " \n",
            "g\n",
            "a\n",
            "u\n",
            "d\n",
            "y\n",
            " \n",
            "s\n",
            "p\n",
            "r\n",
            "i\n",
            "n\n",
            "g\n",
            ",\n",
            "\n",
            "\n",
            " \n",
            " \n",
            "W\n",
            "i\n",
            "t\n",
            "h\n",
            "i\n",
            "n\n",
            " \n",
            "t\n",
            "h\n",
            "i\n",
            "n\n",
            "e\n",
            " \n",
            "o\n",
            "w\n",
            "n\n",
            " \n",
            "b\n",
            "u\n"
          ]
        }
      ]
    },
    {
      "cell_type": "code",
      "source": [
        "# The **batch** method converts these individual character calls into sequences we can feed in as a batch. We use seq_len+1 because of zero indexing. Here is what drop_remainder means:\n",
        "#\n",
        "# drop_remainder: (Optional.) A `tf.bool` scalar `tf.Tensor`, representing\n",
        "#     whether the last batch should be dropped in the case it has fewer than\n",
        "#     `batch_size` elements; the default behavior is not to drop the smaller\n",
        "#     batch.\n",
        "#\n",
        "\n",
        "\n",
        "sequences = char_dataset.batch(seq_len + 1, drop_remainder=True)\n"
      ],
      "metadata": {
        "id": "FsYzaFyUdKDA"
      },
      "execution_count": 12,
      "outputs": []
    },
    {
      "cell_type": "code",
      "source": [
        "# Now that we have our sequences, we will perform the following steps for each one to create our target text sequences:\n",
        "#\n",
        "# 1. Grab the input text sequence\n",
        "# 2. Assign the target text sequence as the input text sequence shifted by one step forward\n",
        "# 3. Group them together as a tuple\n",
        "\n",
        "\n",
        "def create_seq_targets(seq):\n",
        "    input_txt = seq[:-1]\n",
        "    target_txt = seq[1:]\n",
        "    return input_txt, target_txt\n",
        "\n",
        "\n",
        "dataset = sequences.map(create_seq_targets)"
      ],
      "metadata": {
        "id": "MG0kU_BOdLoS"
      },
      "execution_count": 13,
      "outputs": []
    },
    {
      "cell_type": "code",
      "source": [
        "for input_txt, target_txt in dataset.take(1):\n",
        "    print(input_txt.numpy())\n",
        "    print(''.join(ind_to_char[input_txt.numpy()]))\n",
        "    print('\\n')\n",
        "    print(target_txt.numpy())\n",
        "    # There is an extra whitespace!\n",
        "    print(''.join(ind_to_char[target_txt.numpy()]))"
      ],
      "metadata": {
        "colab": {
          "base_uri": "https://localhost:8080/"
        },
        "id": "p5JHKbMNdM4_",
        "outputId": "a2bbccaa-08d7-4c39-8ee3-ea2bd39ed4bb"
      },
      "execution_count": 14,
      "outputs": [
        {
          "output_type": "stream",
          "name": "stdout",
          "text": [
            "[ 0  1  1  1  1  1  1  1  1  1  1  1  1  1  1  1  1  1  1  1  1  1 12  0\n",
            "  1  1 31 72 69 67  1 60 55 63 72 59 73 74  1 57 72 59 55 74 75 72 59 73\n",
            "  1 77 59  1 58 59 73 63 72 59  1 63 68 57 72 59 55 73 59  8  0  1  1 45\n",
            " 62 55 74  1 74 62 59 72 59 56 79  1 56 59 55 75 74 79  5 73  1 72 69 73\n",
            " 59  1 67 63 61 62 74  1 68 59 76 59 72  1 58 63 59  8  0  1  1 27 75 74]\n",
            "\n",
            "                     1\n",
            "  From fairest creatures we desire increase,\n",
            "  That thereby beauty's rose might never die,\n",
            "  But\n",
            "\n",
            "\n",
            "[ 1  1  1  1  1  1  1  1  1  1  1  1  1  1  1  1  1  1  1  1  1 12  0  1\n",
            "  1 31 72 69 67  1 60 55 63 72 59 73 74  1 57 72 59 55 74 75 72 59 73  1\n",
            " 77 59  1 58 59 73 63 72 59  1 63 68 57 72 59 55 73 59  8  0  1  1 45 62\n",
            " 55 74  1 74 62 59 72 59 56 79  1 56 59 55 75 74 79  5 73  1 72 69 73 59\n",
            "  1 67 63 61 62 74  1 68 59 76 59 72  1 58 63 59  8  0  1  1 27 75 74  1]\n",
            "                     1\n",
            "  From fairest creatures we desire increase,\n",
            "  That thereby beauty's rose might never die,\n",
            "  But \n"
          ]
        }
      ]
    },
    {
      "cell_type": "code",
      "source": [
        "# ### Generating training batches\n",
        "#\n",
        "# Now that we have the actual sequences, we will create the batches, we want to shuffle these sequences into a random order, so the model doesn't overfit to any section of the text, but can instead generate characters given any seed text.\n",
        "\n",
        "\n",
        "# Batch size\n",
        "batch_size = 128\n",
        "\n",
        "# Buffer size to shuffle the dataset so it doesn't attempt to shuffle\n",
        "# the entire sequence in memory. Instead, it maintains a buffer in which it shuffles elements\n",
        "buffer_size = 10000\n",
        "\n",
        "dataset = dataset.shuffle(buffer_size).batch(batch_size, drop_remainder=True)\n",
        "\n",
        "dataset"
      ],
      "metadata": {
        "colab": {
          "base_uri": "https://localhost:8080/"
        },
        "id": "27IwvbFwdORI",
        "outputId": "1b4244e7-5807-4ffa-c3be-5b0707697ae4"
      },
      "execution_count": 15,
      "outputs": [
        {
          "output_type": "execute_result",
          "data": {
            "text/plain": [
              "<BatchDataset element_spec=(TensorSpec(shape=(128, 120), dtype=tf.int64, name=None), TensorSpec(shape=(128, 120), dtype=tf.int64, name=None))>"
            ]
          },
          "metadata": {},
          "execution_count": 15
        }
      ]
    },
    {
      "cell_type": "code",
      "source": [
        "# ## Step 4: Creating the Model\n",
        "\n",
        "# This is where YOU will create the model. it needs to start with an embedding layer.\n",
        "#\n",
        "# The embedding layer will serve as the input layer, which essentially creates a lookup table that maps the numbers indices of each character to a vector with \"embedding dim\" number of dimensions. As you can imagine, the larger this embedding size, the more complex the training. This is similar to the idea behind word2vec, where words are mapped to some n-dimensional space. Embedding before feeding straight into the LSTM or GRU usually leads to more realisitic results.\n",
        "\n",
        "\n",
        "# Length of the vocabulary in chars\n",
        "vocab_size = len(vocab)\n",
        "\n",
        "# The embedding dimension. Your choice.\n",
        "embed_dim = 64\n",
        "\n",
        "# Number of RNN units. Your choice. YOU MUST EXPERIMENT WITH THIS NUMBER.\n",
        "rnn_neurons = 1024\n",
        "\n",
        "# Now let's create a function that easily adapts to different variables as shown above.\n"
      ],
      "metadata": {
        "id": "dJqpzW0VdQBI"
      },
      "execution_count": 16,
      "outputs": []
    },
    {
      "cell_type": "code",
      "source": [
        "from tensorflow.keras.models import Sequential\n",
        "from tensorflow.keras.layers import LSTM, Dense, Embedding, Dropout, GRU"
      ],
      "metadata": {
        "id": "nMNnZ7lHdW8B"
      },
      "execution_count": 17,
      "outputs": []
    },
    {
      "cell_type": "code",
      "source": [
        "# ### Setting up Loss Function\n",
        "#\n",
        "# For our loss we will use sparse categorical crossentropy, which we can import from Keras. We will also set this as logits=True\n",
        "\n",
        "\n",
        "from tensorflow.keras.losses import sparse_categorical_crossentropy\n",
        "\n",
        "\n",
        "# The reason we need to redefine this is to make sure we are using one hot encoding (from_logits=True)\n",
        "def sparse_cat_loss(y_true, y_pred):\n",
        "    return sparse_categorical_crossentropy(y_true, y_pred, from_logits=True)\n"
      ],
      "metadata": {
        "id": "K25qmDnEdYFO"
      },
      "execution_count": 18,
      "outputs": []
    },
    {
      "cell_type": "code",
      "source": [
        "def create_model(vocab_size, embed_dim, rnn_neurons, batch_size):\n",
        "    # define your model here...\n",
        "    # don't forget you need an embeddings layer at the beginning\n",
        "    # and a dense layer the size of the vocabulary at the end to generate distributions\n",
        "\n",
        "    model = Sequential()\n",
        "    model.add(Embedding(vocab_size, embed_dim,batch_input_shape=[batch_size, None]))\n",
        "    model.add(LSTM(rnn_neurons,return_sequences=True,stateful=True,recurrent_initializer='glorot_uniform'))\n",
        "    # Final Dense Layer to Predict\n",
        "    model.add(Dense(vocab_size))\n",
        "    model.compile(optimizer='adam', loss=sparse_cat_loss, metrics=['accuracy']) \n",
        "    return model"
      ],
      "metadata": {
        "id": "Dduc9HyJdZOo"
      },
      "execution_count": 19,
      "outputs": []
    },
    {
      "cell_type": "code",
      "source": [
        "#Create the model\n",
        "model = create_model(\n",
        "  vocab_size = vocab_size,\n",
        "  embed_dim=embed_dim,\n",
        "  rnn_neurons=rnn_neurons,\n",
        "  batch_size=batch_size)\n",
        "\n",
        "\n",
        "#Train the model\n",
        "epochs = 35\n",
        "model.fit(dataset,epochs=epochs)"
      ],
      "metadata": {
        "colab": {
          "base_uri": "https://localhost:8080/"
        },
        "id": "xTZ4pJZpdaQ9",
        "outputId": "75d9b296-f9e7-4b95-9d3a-12f011c90f19"
      },
      "execution_count": 20,
      "outputs": [
        {
          "output_type": "stream",
          "name": "stdout",
          "text": [
            "Epoch 1/35\n",
            "67/67 [==============================] - 16s 123ms/step - loss: 3.2557 - accuracy: 0.2241\n",
            "Epoch 2/35\n",
            "67/67 [==============================] - 11s 123ms/step - loss: 2.8111 - accuracy: 0.2786\n",
            "Epoch 3/35\n",
            "67/67 [==============================] - 10s 126ms/step - loss: 2.3048 - accuracy: 0.3585\n",
            "Epoch 4/35\n",
            "67/67 [==============================] - 10s 125ms/step - loss: 2.0743 - accuracy: 0.4080\n",
            "Epoch 5/35\n",
            "67/67 [==============================] - 11s 128ms/step - loss: 1.9126 - accuracy: 0.4485\n",
            "Epoch 6/35\n",
            "67/67 [==============================] - 10s 134ms/step - loss: 1.7790 - accuracy: 0.4848\n",
            "Epoch 7/35\n",
            "67/67 [==============================] - 10s 132ms/step - loss: 1.6679 - accuracy: 0.5144\n",
            "Epoch 8/35\n",
            "67/67 [==============================] - 11s 130ms/step - loss: 1.5855 - accuracy: 0.5366\n",
            "Epoch 9/35\n",
            "67/67 [==============================] - 10s 132ms/step - loss: 1.5202 - accuracy: 0.5535\n",
            "Epoch 10/35\n",
            "67/67 [==============================] - 11s 133ms/step - loss: 1.4671 - accuracy: 0.5668\n",
            "Epoch 11/35\n",
            "67/67 [==============================] - 10s 132ms/step - loss: 1.4222 - accuracy: 0.5783\n",
            "Epoch 12/35\n",
            "67/67 [==============================] - 10s 130ms/step - loss: 1.3848 - accuracy: 0.5883\n",
            "Epoch 13/35\n",
            "67/67 [==============================] - 11s 129ms/step - loss: 1.3529 - accuracy: 0.5963\n",
            "Epoch 14/35\n",
            "67/67 [==============================] - 10s 127ms/step - loss: 1.3235 - accuracy: 0.6035\n",
            "Epoch 15/35\n",
            "67/67 [==============================] - 10s 130ms/step - loss: 1.2977 - accuracy: 0.6103\n",
            "Epoch 16/35\n",
            "67/67 [==============================] - 10s 133ms/step - loss: 1.2733 - accuracy: 0.6163\n",
            "Epoch 17/35\n",
            "67/67 [==============================] - 10s 134ms/step - loss: 1.2508 - accuracy: 0.6228\n",
            "Epoch 18/35\n",
            "67/67 [==============================] - 10s 132ms/step - loss: 1.2308 - accuracy: 0.6280\n",
            "Epoch 19/35\n",
            "67/67 [==============================] - 10s 130ms/step - loss: 1.2099 - accuracy: 0.6336\n",
            "Epoch 20/35\n",
            "67/67 [==============================] - 10s 128ms/step - loss: 1.1905 - accuracy: 0.6389\n",
            "Epoch 21/35\n",
            "67/67 [==============================] - 10s 128ms/step - loss: 1.1721 - accuracy: 0.6438\n",
            "Epoch 22/35\n",
            "67/67 [==============================] - 10s 128ms/step - loss: 1.1511 - accuracy: 0.6500\n",
            "Epoch 23/35\n",
            "67/67 [==============================] - 10s 128ms/step - loss: 1.1332 - accuracy: 0.6551\n",
            "Epoch 24/35\n",
            "67/67 [==============================] - 10s 130ms/step - loss: 1.1115 - accuracy: 0.6616\n",
            "Epoch 25/35\n",
            "67/67 [==============================] - 10s 128ms/step - loss: 1.0913 - accuracy: 0.6676\n",
            "Epoch 26/35\n",
            "67/67 [==============================] - 10s 131ms/step - loss: 1.0708 - accuracy: 0.6739\n",
            "Epoch 27/35\n",
            "67/67 [==============================] - 10s 134ms/step - loss: 1.0496 - accuracy: 0.6812\n",
            "Epoch 28/35\n",
            "67/67 [==============================] - 10s 132ms/step - loss: 1.0280 - accuracy: 0.6879\n",
            "Epoch 29/35\n",
            "67/67 [==============================] - 10s 130ms/step - loss: 1.0055 - accuracy: 0.6957\n",
            "Epoch 30/35\n",
            "67/67 [==============================] - 10s 129ms/step - loss: 0.9810 - accuracy: 0.7037\n",
            "Epoch 31/35\n",
            "67/67 [==============================] - 10s 128ms/step - loss: 0.9578 - accuracy: 0.7114\n",
            "Epoch 32/35\n",
            "67/67 [==============================] - 10s 128ms/step - loss: 0.9322 - accuracy: 0.7206\n",
            "Epoch 33/35\n",
            "67/67 [==============================] - 10s 129ms/step - loss: 0.9077 - accuracy: 0.7286\n",
            "Epoch 34/35\n",
            "67/67 [==============================] - 10s 129ms/step - loss: 0.8815 - accuracy: 0.7377\n",
            "Epoch 35/35\n",
            "67/67 [==============================] - 10s 130ms/step - loss: 0.8556 - accuracy: 0.7476\n"
          ]
        },
        {
          "output_type": "execute_result",
          "data": {
            "text/plain": [
              "<keras.callbacks.History at 0x7f10a01687d0>"
            ]
          },
          "metadata": {},
          "execution_count": 20
        }
      ]
    },
    {
      "cell_type": "code",
      "source": [
        "losses = pd.DataFrame(model.history.history)\n",
        "losses.head()"
      ],
      "metadata": {
        "colab": {
          "base_uri": "https://localhost:8080/",
          "height": 206
        },
        "id": "ZZzvcSmmdd_F",
        "outputId": "7913b494-f916-4f79-b53e-4b61e8bbd742"
      },
      "execution_count": 21,
      "outputs": [
        {
          "output_type": "execute_result",
          "data": {
            "text/plain": [
              "       loss  accuracy\n",
              "0  3.255684  0.224126\n",
              "1  2.811103  0.278560\n",
              "2  2.304814  0.358486\n",
              "3  2.074301  0.408006\n",
              "4  1.912637  0.448478"
            ],
            "text/html": [
              "\n",
              "  <div id=\"df-fc00e277-972c-40ac-b8aa-d483e0611bc0\">\n",
              "    <div class=\"colab-df-container\">\n",
              "      <div>\n",
              "<style scoped>\n",
              "    .dataframe tbody tr th:only-of-type {\n",
              "        vertical-align: middle;\n",
              "    }\n",
              "\n",
              "    .dataframe tbody tr th {\n",
              "        vertical-align: top;\n",
              "    }\n",
              "\n",
              "    .dataframe thead th {\n",
              "        text-align: right;\n",
              "    }\n",
              "</style>\n",
              "<table border=\"1\" class=\"dataframe\">\n",
              "  <thead>\n",
              "    <tr style=\"text-align: right;\">\n",
              "      <th></th>\n",
              "      <th>loss</th>\n",
              "      <th>accuracy</th>\n",
              "    </tr>\n",
              "  </thead>\n",
              "  <tbody>\n",
              "    <tr>\n",
              "      <th>0</th>\n",
              "      <td>3.255684</td>\n",
              "      <td>0.224126</td>\n",
              "    </tr>\n",
              "    <tr>\n",
              "      <th>1</th>\n",
              "      <td>2.811103</td>\n",
              "      <td>0.278560</td>\n",
              "    </tr>\n",
              "    <tr>\n",
              "      <th>2</th>\n",
              "      <td>2.304814</td>\n",
              "      <td>0.358486</td>\n",
              "    </tr>\n",
              "    <tr>\n",
              "      <th>3</th>\n",
              "      <td>2.074301</td>\n",
              "      <td>0.408006</td>\n",
              "    </tr>\n",
              "    <tr>\n",
              "      <th>4</th>\n",
              "      <td>1.912637</td>\n",
              "      <td>0.448478</td>\n",
              "    </tr>\n",
              "  </tbody>\n",
              "</table>\n",
              "</div>\n",
              "      <button class=\"colab-df-convert\" onclick=\"convertToInteractive('df-fc00e277-972c-40ac-b8aa-d483e0611bc0')\"\n",
              "              title=\"Convert this dataframe to an interactive table.\"\n",
              "              style=\"display:none;\">\n",
              "        \n",
              "  <svg xmlns=\"http://www.w3.org/2000/svg\" height=\"24px\"viewBox=\"0 0 24 24\"\n",
              "       width=\"24px\">\n",
              "    <path d=\"M0 0h24v24H0V0z\" fill=\"none\"/>\n",
              "    <path d=\"M18.56 5.44l.94 2.06.94-2.06 2.06-.94-2.06-.94-.94-2.06-.94 2.06-2.06.94zm-11 1L8.5 8.5l.94-2.06 2.06-.94-2.06-.94L8.5 2.5l-.94 2.06-2.06.94zm10 10l.94 2.06.94-2.06 2.06-.94-2.06-.94-.94-2.06-.94 2.06-2.06.94z\"/><path d=\"M17.41 7.96l-1.37-1.37c-.4-.4-.92-.59-1.43-.59-.52 0-1.04.2-1.43.59L10.3 9.45l-7.72 7.72c-.78.78-.78 2.05 0 2.83L4 21.41c.39.39.9.59 1.41.59.51 0 1.02-.2 1.41-.59l7.78-7.78 2.81-2.81c.8-.78.8-2.07 0-2.86zM5.41 20L4 18.59l7.72-7.72 1.47 1.35L5.41 20z\"/>\n",
              "  </svg>\n",
              "      </button>\n",
              "      \n",
              "  <style>\n",
              "    .colab-df-container {\n",
              "      display:flex;\n",
              "      flex-wrap:wrap;\n",
              "      gap: 12px;\n",
              "    }\n",
              "\n",
              "    .colab-df-convert {\n",
              "      background-color: #E8F0FE;\n",
              "      border: none;\n",
              "      border-radius: 50%;\n",
              "      cursor: pointer;\n",
              "      display: none;\n",
              "      fill: #1967D2;\n",
              "      height: 32px;\n",
              "      padding: 0 0 0 0;\n",
              "      width: 32px;\n",
              "    }\n",
              "\n",
              "    .colab-df-convert:hover {\n",
              "      background-color: #E2EBFA;\n",
              "      box-shadow: 0px 1px 2px rgba(60, 64, 67, 0.3), 0px 1px 3px 1px rgba(60, 64, 67, 0.15);\n",
              "      fill: #174EA6;\n",
              "    }\n",
              "\n",
              "    [theme=dark] .colab-df-convert {\n",
              "      background-color: #3B4455;\n",
              "      fill: #D2E3FC;\n",
              "    }\n",
              "\n",
              "    [theme=dark] .colab-df-convert:hover {\n",
              "      background-color: #434B5C;\n",
              "      box-shadow: 0px 1px 3px 1px rgba(0, 0, 0, 0.15);\n",
              "      filter: drop-shadow(0px 1px 2px rgba(0, 0, 0, 0.3));\n",
              "      fill: #FFFFFF;\n",
              "    }\n",
              "  </style>\n",
              "\n",
              "      <script>\n",
              "        const buttonEl =\n",
              "          document.querySelector('#df-fc00e277-972c-40ac-b8aa-d483e0611bc0 button.colab-df-convert');\n",
              "        buttonEl.style.display =\n",
              "          google.colab.kernel.accessAllowed ? 'block' : 'none';\n",
              "\n",
              "        async function convertToInteractive(key) {\n",
              "          const element = document.querySelector('#df-fc00e277-972c-40ac-b8aa-d483e0611bc0');\n",
              "          const dataTable =\n",
              "            await google.colab.kernel.invokeFunction('convertToInteractive',\n",
              "                                                     [key], {});\n",
              "          if (!dataTable) return;\n",
              "\n",
              "          const docLinkHtml = 'Like what you see? Visit the ' +\n",
              "            '<a target=\"_blank\" href=https://colab.research.google.com/notebooks/data_table.ipynb>data table notebook</a>'\n",
              "            + ' to learn more about interactive tables.';\n",
              "          element.innerHTML = '';\n",
              "          dataTable['output_type'] = 'display_data';\n",
              "          await google.colab.output.renderOutput(dataTable, element);\n",
              "          const docLink = document.createElement('div');\n",
              "          docLink.innerHTML = docLinkHtml;\n",
              "          element.appendChild(docLink);\n",
              "        }\n",
              "      </script>\n",
              "    </div>\n",
              "  </div>\n",
              "  "
            ]
          },
          "metadata": {},
          "execution_count": 21
        }
      ]
    },
    {
      "cell_type": "code",
      "source": [
        "losses[['loss','accuracy']].plot()"
      ],
      "metadata": {
        "colab": {
          "base_uri": "https://localhost:8080/",
          "height": 283
        },
        "id": "8Wb4cDGMdfix",
        "outputId": "9fc0db0a-1cd3-4ae1-be3e-2350559abd18"
      },
      "execution_count": 22,
      "outputs": [
        {
          "output_type": "execute_result",
          "data": {
            "text/plain": [
              "<matplotlib.axes._subplots.AxesSubplot at 0x7f10364164d0>"
            ]
          },
          "metadata": {},
          "execution_count": 22
        },
        {
          "output_type": "display_data",
          "data": {
            "text/plain": [
              "<Figure size 432x288 with 1 Axes>"
            ],
            "image/png": "[encoded data removed]"
          },
          "metadata": {
            "needs_background": "light"
          }
        }
      ]
    },
    {
      "cell_type": "code",
      "source": [
        "ax = losses.plot(lw=2, colormap='jet', marker='.', markersize=10, title='Loss and Accuracy trend during training')\n",
        "ax.set_xlabel(\"epoch\")\n",
        "ax.set_ylabel(\"metric\")"
      ],
      "metadata": {
        "colab": {
          "base_uri": "https://localhost:8080/",
          "height": 313
        },
        "id": "__rntk0wdhNj",
        "outputId": "cc78aa82-ee5f-4674-f6a2-3ef1a5d762bf"
      },
      "execution_count": 23,
      "outputs": [
        {
          "output_type": "execute_result",
          "data": {
            "text/plain": [
              "Text(0, 0.5, 'metric')"
            ]
          },
          "metadata": {},
          "execution_count": 23
        },
        {
          "output_type": "display_data",
          "data": {
            "text/plain": [
              "<Figure size 432x288 with 1 Axes>"
            ],
            "image/png": "[encoded data removed]"
          },
          "metadata": {
            "needs_background": "light"
          }
        }
      ]
    },
    {
      "cell_type": "code",
      "source": [
        "ax.figure.savefig('acc_loss_1024.png')"
      ],
      "metadata": {
        "id": "kHnB25eEdj7I"
      },
      "execution_count": 24,
      "outputs": []
    },
    {
      "cell_type": "code",
      "source": [
        "for input_example_batch, target_example_batch in dataset.take(1):\n",
        "\n",
        "  # Predict off some random batch\n",
        "  example_batch_predictions = model(input_example_batch)\n",
        "\n",
        "  # Display the dimensions of the predictions\n",
        "  print(example_batch_predictions.shape, \" <=== (batch_size, sequence_length, vocab_size)\")\n",
        "\n",
        "example_batch_predictions"
      ],
      "metadata": {
        "colab": {
          "base_uri": "https://localhost:8080/"
        },
        "id": "ooB7YxaVdrdq",
        "outputId": "71ad1048-1747-4306-e7fa-dfb2cb8a5eb6"
      },
      "execution_count": 25,
      "outputs": [
        {
          "output_type": "stream",
          "name": "stdout",
          "text": [
            "(128, 120, 82)  <=== (batch_size, sequence_length, vocab_size)\n"
          ]
        },
        {
          "output_type": "execute_result",
          "data": {
            "text/plain": [
              "<tf.Tensor: shape=(128, 120, 82), dtype=float32, numpy=\n",
              "array([[[ 5.0771520e-02,  4.9719925e+00, -2.5067456e+00, ...,\n",
              "          6.6945702e-01, -5.3531446e+00, -5.7219677e+00],\n",
              "        [ 1.2729785e+01,  1.1408561e+01,  1.7823865e+00, ...,\n",
              "         -1.5041738e+00, -3.6556313e+00, -2.4687054e+00],\n",
              "        [ 5.4900141e+00,  1.2076597e+01, -4.8968215e+00, ...,\n",
              "         -7.2337618e+00, -9.6460838e+00, -4.0692291e+00],\n",
              "        ...,\n",
              "        [ 6.8824277e+00,  1.0099251e+01,  8.9073539e-01, ...,\n",
              "         -1.2072359e+00, -4.6167526e+00, -3.2268946e+00],\n",
              "        [-4.5928717e+00, -9.7304955e-02, -9.6468716e+00, ...,\n",
              "          7.2117698e-01, -3.8801532e+00, -9.5282860e+00],\n",
              "        [ 1.6470909e+00,  4.2039865e-01, -5.9257536e+00, ...,\n",
              "         -5.6388474e-01, -7.3564034e+00, -5.6561689e+00]],\n",
              "\n",
              "       [[-4.8158121e+00, -1.5201204e-01, -8.8673754e+00, ...,\n",
              "         -2.2157853e+00, -4.4665475e+00, -9.1810160e+00],\n",
              "        [ 7.0738149e-01,  4.2211361e+00, -9.3154860e+00, ...,\n",
              "          1.6678293e+00, -6.7125893e+00, -7.8724709e+00],\n",
              "        [-3.4843073e+00,  3.9629104e+00, -3.4493237e+00, ...,\n",
              "          5.4501367e-01, -6.6423483e+00, -5.8440886e+00],\n",
              "        ...,\n",
              "        [-2.9178975e+00,  2.7845354e+00, -4.2629108e+00, ...,\n",
              "          1.5111775e+00, -4.1481819e+00, -5.9170065e+00],\n",
              "        [-6.9690113e+00, -1.0588286e+00, -1.9399196e+00, ...,\n",
              "          2.3557734e+00, -7.0937877e+00, -4.3576727e+00],\n",
              "        [ 1.9254692e+00,  6.7967472e+00,  2.4544847e+00, ...,\n",
              "         -6.1617866e+00, -7.3922324e-01, -4.0782766e+00]],\n",
              "\n",
              "       [[-3.3281195e+00,  2.8104188e+00, -3.1307528e+00, ...,\n",
              "         -1.8157947e+00, -3.8573751e+00, -2.2024596e+00],\n",
              "        [ 1.6355923e+00,  4.2789178e+00, -3.1960315e-01, ...,\n",
              "         -3.8819840e+00, -3.5550191e+00, -2.9981823e+00],\n",
              "        [ 4.4576898e+00,  8.7737217e+00,  2.5716357e+00, ...,\n",
              "         -6.9116360e-01, -4.3739023e+00, -2.6157212e+00],\n",
              "        ...,\n",
              "        [-1.0321534e+01, -4.6435938e+00, -6.9778738e+00, ...,\n",
              "          2.4992843e+00, -5.3570733e+00, -1.0158524e+01],\n",
              "        [-5.9712162e+00, -6.9588482e-01, -5.2274375e+00, ...,\n",
              "         -2.8460171e-02, -2.8593724e+00, -8.7945108e+00],\n",
              "        [ 1.6441476e+00,  8.2625523e+00, -3.0691741e+00, ...,\n",
              "          2.9339197e+00, -4.5801969e+00, -5.3439326e+00]],\n",
              "\n",
              "       ...,\n",
              "\n",
              "       [[-6.8732829e+00,  7.6499093e-01, -8.8011436e+00, ...,\n",
              "          1.8764398e+00, -6.7739639e+00, -6.7516990e+00],\n",
              "        [-6.7108951e+00,  4.3270783e+00, -5.0072527e+00, ...,\n",
              "          1.5446579e+00, -5.6647978e+00, -8.7593384e+00],\n",
              "        [-6.2034521e+00, -1.9828504e+00, -6.2777915e+00, ...,\n",
              "          7.2025747e+00,  3.2643912e+00, -8.6175394e+00],\n",
              "        ...,\n",
              "        [ 1.4729850e+00,  7.3989172e+00,  1.4458532e+00, ...,\n",
              "         -7.3830562e+00, -8.1314926e+00, -1.5640854e+00],\n",
              "        [ 6.4605541e+00,  1.5999497e+01, -2.9515228e+00, ...,\n",
              "         -6.5858459e+00, -9.3257027e+00, -7.9010177e-01],\n",
              "        [-6.4923263e+00,  2.4671912e+00, -7.5211992e+00, ...,\n",
              "         -1.2672784e-02, -5.6011486e+00, -5.2419863e+00]],\n",
              "\n",
              "       [[-3.1378829e+00,  3.2008486e+00, -1.0023088e+01, ...,\n",
              "          2.4636409e+00, -6.0280981e+00, -8.8903751e+00],\n",
              "        [-3.8910432e+00,  2.2901385e+00, -5.3074646e+00, ...,\n",
              "          1.8195837e+00, -1.0635813e+01, -3.7872307e+00],\n",
              "        [-2.5062518e+00,  4.1651082e+00, -1.9161723e+00, ...,\n",
              "         -1.7189932e+00, -8.1780434e-01, -4.7974491e+00],\n",
              "        ...,\n",
              "        [-5.4635653e+00,  1.9460416e+00, -8.9492893e+00, ...,\n",
              "          4.0393829e+00, -6.5147281e+00, -8.7437143e+00],\n",
              "        [-3.5746734e+00,  1.7725379e+00, -3.5073028e+00, ...,\n",
              "          4.6350570e+00, -6.0031734e+00, -6.2250500e+00],\n",
              "        [-5.4263639e-01,  3.0739646e+00, -2.9966657e+00, ...,\n",
              "          6.7055717e+00, -7.0666542e+00, -2.7123127e+00]],\n",
              "\n",
              "       [[-2.9626641e+00, -2.6863858e-01, -1.7185241e+00, ...,\n",
              "         -1.1008641e+00, -4.4483976e+00, -3.9943857e+00],\n",
              "        [-2.0620632e+00,  3.6206863e+00, -7.6210504e+00, ...,\n",
              "          3.7566972e-01, -4.9297509e+00, -8.4409828e+00],\n",
              "        [-1.4064457e+00,  2.1555681e+00, -2.0646996e+00, ...,\n",
              "         -4.9526498e-01, -6.0347738e+00, -7.2014518e+00],\n",
              "        ...,\n",
              "        [-9.3565561e-02,  3.2863386e+00, -4.6327171e-01, ...,\n",
              "         -3.2173245e+00, -7.8442836e+00, -2.7588525e+00],\n",
              "        [ 3.1286058e+00,  1.3089493e+01, -1.4412898e+00, ...,\n",
              "         -1.7631924e+00, -8.1316442e+00,  4.0196800e-01],\n",
              "        [-8.5687981e+00,  1.2586037e+00, -1.1260703e+01, ...,\n",
              "         -2.0372739e-01, -1.0182093e+01, -4.0549345e+00]]], dtype=float32)>"
            ]
          },
          "metadata": {},
          "execution_count": 25
        }
      ]
    },
    {
      "cell_type": "code",
      "source": [
        "sampled_indices = tf.random.categorical(example_batch_predictions[0], num_samples=1)\n",
        "sampled_indices"
      ],
      "metadata": {
        "colab": {
          "base_uri": "https://localhost:8080/"
        },
        "id": "jogZb7-JdxY2",
        "outputId": "1c91f16b-5e8d-4b50-a0ad-59aef92b2e02"
      },
      "execution_count": 27,
      "outputs": [
        {
          "output_type": "execute_result",
          "data": {
            "text/plain": [
              "<tf.Tensor: shape=(120, 1), dtype=int64, numpy=\n",
              "array([[66],\n",
              "       [ 0],\n",
              "       [ 1],\n",
              "       [ 1],\n",
              "       [ 1],\n",
              "       [79],\n",
              "       [ 1],\n",
              "       [77],\n",
              "       [63],\n",
              "       [71],\n",
              "       [73],\n",
              "       [69],\n",
              "       [68],\n",
              "       [ 1],\n",
              "       [74],\n",
              "       [62],\n",
              "       [59],\n",
              "       [ 1],\n",
              "       [61],\n",
              "       [72],\n",
              "       [63],\n",
              "       [73],\n",
              "       [63],\n",
              "       [57],\n",
              "       [63],\n",
              "       [55],\n",
              "       [68],\n",
              "       [ 1],\n",
              "       [58],\n",
              "       [59],\n",
              "       [ 1],\n",
              "       [73],\n",
              "       [79],\n",
              "       [ 1],\n",
              "       [67],\n",
              "       [69],\n",
              "       [77],\n",
              "       [59],\n",
              "       [ 8],\n",
              "       [ 0],\n",
              "       [ 1],\n",
              "       [ 0],\n",
              "       [ 1],\n",
              "       [ 1],\n",
              "       [28],\n",
              "       [68],\n",
              "       [58],\n",
              "       [72],\n",
              "       [79],\n",
              "       [ 1],\n",
              "       [74],\n",
              "       [69],\n",
              "       [75],\n",
              "       [74],\n",
              "       [ 1],\n",
              "       [58],\n",
              "       [59],\n",
              "       [73],\n",
              "       [ 1],\n",
              "       [57],\n",
              "       [69],\n",
              "       [69],\n",
              "       [58],\n",
              "       [59],\n",
              "       [63],\n",
              "       [55],\n",
              "       [70],\n",
              "       [74],\n",
              "       [63],\n",
              "       [69],\n",
              "       [68],\n",
              "       [73],\n",
              "       [ 8],\n",
              "       [66],\n",
              "       [68],\n",
              "       [59],\n",
              "       [ 1],\n",
              "       [68],\n",
              "       [69],\n",
              "       [74],\n",
              "       [ 1],\n",
              "       [63],\n",
              "       [63],\n",
              "       [70],\n",
              "       [74],\n",
              "       [55],\n",
              "       [ 1],\n",
              "       [ 1],\n",
              "       [ 1],\n",
              "       [55],\n",
              "       [76],\n",
              "       [62],\n",
              "       [ 1],\n",
              "       [73],\n",
              "       [59],\n",
              "       [55],\n",
              "       [74],\n",
              "       [ 1],\n",
              "       [55],\n",
              "       [59],\n",
              "       [ 1],\n",
              "       [ 1],\n",
              "       [72],\n",
              "       [68],\n",
              "       [58],\n",
              "       [ 1],\n",
              "       [62],\n",
              "       [ 1],\n",
              "       [74],\n",
              "       [63],\n",
              "       [73],\n",
              "       [70],\n",
              "       [59],\n",
              "       [72],\n",
              "       [55],\n",
              "       [74],\n",
              "       [59],\n",
              "       [ 1],\n",
              "       [73],\n",
              "       [69]])>"
            ]
          },
          "metadata": {},
          "execution_count": 27
        }
      ]
    },
    {
      "cell_type": "code",
      "source": [
        "# Reformat to not be a lists of lists\n",
        "sampled_indices = tf.squeeze(sampled_indices,axis=-1).numpy()\n",
        "sampled_indices"
      ],
      "metadata": {
        "colab": {
          "base_uri": "https://localhost:8080/"
        },
        "id": "2tNjdCfAdymp",
        "outputId": "7fbafe9d-5c2d-4ef8-db66-012e64f5e668"
      },
      "execution_count": 28,
      "outputs": [
        {
          "output_type": "execute_result",
          "data": {
            "text/plain": [
              "array([66,  0,  1,  1,  1, 79,  1, 77, 63, 71, 73, 69, 68,  1, 74, 62, 59,\n",
              "        1, 61, 72, 63, 73, 63, 57, 63, 55, 68,  1, 58, 59,  1, 73, 79,  1,\n",
              "       67, 69, 77, 59,  8,  0,  1,  0,  1,  1, 28, 68, 58, 72, 79,  1, 74,\n",
              "       69, 75, 74,  1, 58, 59, 73,  1, 57, 69, 69, 58, 59, 63, 55, 70, 74,\n",
              "       63, 69, 68, 73,  8, 66, 68, 59,  1, 68, 69, 74,  1, 63, 63, 70, 74,\n",
              "       55,  1,  1,  1, 55, 76, 62,  1, 73, 59, 55, 74,  1, 55, 59,  1,  1,\n",
              "       72, 68, 58,  1, 62,  1, 74, 63, 73, 70, 59, 72, 55, 74, 59,  1, 73,\n",
              "       69])"
            ]
          },
          "metadata": {},
          "execution_count": 28
        }
      ]
    },
    {
      "cell_type": "code",
      "source": [
        "print(\"Given the input seq: \\n\")\n",
        "print(\"\".join(ind_to_char[input_example_batch[0]]))\n",
        "print('\\n')\n",
        "print(\"Next Char Predictions: \\n\")\n",
        "print(\"\".join(ind_to_char[sampled_indices ]))"
      ],
      "metadata": {
        "colab": {
          "base_uri": "https://localhost:8080/"
        },
        "id": "ZGP0tcAod2cG",
        "outputId": "c708b64e-5a29-45bc-83ad-d943ed5e6e87"
      },
      "execution_count": 29,
      "outputs": [
        {
          "output_type": "stream",
          "name": "stdout",
          "text": [
            "Given the input seq: \n",
            "\n",
            "e:\n",
            "  My reason the physician to my love,  \n",
            "  Angry that his prescriptions are not kept\n",
            "  Hath left me, and I desperate n\n",
            "\n",
            "\n",
            "Next Char Predictions: \n",
            "\n",
            "l\n",
            "   y wiqson the grisician de sy mowe,\n",
            " \n",
            "  Cndry tout des coodeiaptions,lne not iipta   avh seat ae  rnd h tisperate so\n"
          ]
        }
      ]
    },
    {
      "cell_type": "code",
      "source": [
        "model.save('shakespeare_gen_L_1024.h5')"
      ],
      "metadata": {
        "id": "qvxzTXb5d4d0"
      },
      "execution_count": 30,
      "outputs": []
    },
    {
      "cell_type": "code",
      "source": [
        "model = create_model(\n",
        "      vocab_size = vocab_size,\n",
        "      embed_dim=embed_dim,\n",
        "      rnn_neurons=rnn_neurons,\n",
        "      batch_size=1)\n",
        "\n",
        "model.load_weights('shakespeare_gen_L_1024.h5')\n",
        "model.build(tf.TensorShape([1, None]))"
      ],
      "metadata": {
        "id": "DzkTzHiWeAFA"
      },
      "execution_count": 31,
      "outputs": []
    },
    {
      "cell_type": "code",
      "source": [
        "model.summary()"
      ],
      "metadata": {
        "colab": {
          "base_uri": "https://localhost:8080/"
        },
        "id": "2FJHM9MpeDSV",
        "outputId": "7a4fab00-5521-4a4a-ce5d-b61dd12705b7"
      },
      "execution_count": 32,
      "outputs": [
        {
          "output_type": "stream",
          "name": "stdout",
          "text": [
            "Model: \"sequential_1\"\n",
            "_________________________________________________________________\n",
            " Layer (type)                Output Shape              Param #   \n",
            "=================================================================\n",
            " embedding_1 (Embedding)     (1, None, 64)             5248      \n",
            "                                                                 \n",
            " lstm_1 (LSTM)               (1, None, 1024)           4460544   \n",
            "                                                                 \n",
            " dense_1 (Dense)             (1, None, 82)             84050     \n",
            "                                                                 \n",
            "=================================================================\n",
            "Total params: 4,549,842\n",
            "Trainable params: 4,549,842\n",
            "Non-trainable params: 0\n",
            "_________________________________________________________________\n"
          ]
        }
      ]
    },
    {
      "cell_type": "code",
      "source": [
        "def generate_text(model, start_seed,gen_size=100,temp=1.0):\n",
        "  '''\n",
        "  model: Trained Model to Generate Text\n",
        "  start_seed: Intial Seed text in string form\n",
        "  gen_size: Number of characters to generate\n",
        "\n",
        "  Basic idea behind this function is to take in some seed text, format it so\n",
        "  that it is in the correct shape for our network, then loop the sequence as\n",
        "  we keep adding our own predicted characters. Similar to our work in the RNN\n",
        "  time series problems.\n",
        "  '''\n",
        "\n",
        "  # Number of characters to generate\n",
        "  num_generate = gen_size\n",
        "\n",
        "  # Vecotrizing starting seed text\n",
        "  input_eval = [char_to_ind[s] for s in start_seed]\n",
        "\n",
        "  # Expand to match batch format shape\n",
        "  input_eval = tf.expand_dims(input_eval, 0)\n",
        "\n",
        "  # Empty list to hold resulting generated text\n",
        "  text_generated = []\n",
        "\n",
        "  # Temperature effects randomness in our resulting text\n",
        "  # The term is derived from entropy/thermodynamics.\n",
        "  # The temperature is used to effect probability of next characters.\n",
        "  # Higher probability == lesss surprising/ more expected\n",
        "  # Lower temperature == more surprising / less expected\n",
        " \n",
        "  temperature = temp\n",
        "\n",
        "  # Here batch size == 1\n",
        "  model.reset_states()\n",
        "\n",
        "  for i in range(num_generate):\n",
        "\n",
        "      # Generate Predictions\n",
        "      predictions = model(input_eval)\n",
        "\n",
        "      # Remove the batch shape dimension\n",
        "      predictions = tf.squeeze(predictions, 0)\n",
        "\n",
        "      # Use a cateogircal disitribution to select the next character\n",
        "      predictions = predictions / temperature\n",
        "      predicted_id = tf.random.categorical(predictions, num_samples=1)[-1,0].numpy()\n",
        "\n",
        "      # Pass the predicted charracter for the next input\n",
        "      input_eval = tf.expand_dims([predicted_id], 0)\n",
        "\n",
        "      # Transform back to character letter\n",
        "      text_generated.append(ind_to_char[predicted_id])\n",
        "\n",
        "  return (start_seed + ''.join(text_generated))"
      ],
      "metadata": {
        "id": "kj4Vnv7peGDX"
      },
      "execution_count": 33,
      "outputs": []
    },
    {
      "cell_type": "code",
      "source": [
        "print(generate_text(model,\"JULIET\",gen_size=1000))"
      ],
      "metadata": {
        "colab": {
          "base_uri": "https://localhost:8080/"
        },
        "id": "Y7eVrmJeeHS1",
        "outputId": "978c360f-7d62-43cf-9ee9-0d47acd9f5a2"
      },
      "execution_count": 34,
      "outputs": [
        {
          "output_type": "stream",
          "name": "stdout",
          "text": [
            "JULIETUDADP>PTEHPGEzXVTK<<TNNNHQP8DKQKvZ<UPAAIPGAQKZLAQH<QQURQVLADQVAWGP8QMAQH43HZ4J.HQK]DJOQGQK3TK&zJS<GQQ[]VQLA_H>QFDK82DKQ_QQYIQIRDDODQQKDDKQ\"<RQDQQHJQKDETNZ<<OQMLEW>WVQGQ>4Q_GDDHAIQWDCTQLQEIP9J_&KQPWD<DQZWAQP6W<X7<DO<<DQ\"QM>\"(5QVAQQJQP>8[ (5\"QLQHPQLEIUH8VQQAVjLUVEICICEOU(jQKAQDUqVIVAQUAQAQDQNDIzDP.HLIQUM\"QLJQDDH\"TVQQAIWQA|WVQVK\"1QKQDKVDIQODHQJI6N2QIjQPLQLXQHDH<QQ|Q<OHQKDQQDABLNHXDI8PGQ[NQOWV&7QKU_<IQID_Z!QVQJQLPDADQCQJEH&QZQBARQBAC\"_A<LLDHIjYQGDBODL(EGAX<NBDD(7QF_D\"VQQDQHLzG<Y(&NLQ7DQKDLEGQ\"DDQPQUMQXAL<TGQV<NY4<(Q_J[GHX7DLW0|GQK7D<GQU(DGDA[YQ&V(TQQL>GLQCECLAQCWOD_UJLTIEQUI<DWGCTD<DEG\"cVDQQEKX]D<\"zVQV\"<QR<DQQEDGCQGQLLQWLWKL\"VDIODQE\"4MSO8DZQD4QCIQ7VVPECTIVQUBR>XD(QVQX4]&BEQJOGQ\"&QWDQLEW4IQKQWFQKQUAP\n",
            "DACGEQLO7HLLQCJLTEWHA>B\n",
            "EQUYTHADPVDKBCUUMRDD>QZQRDQQOIPEGOQBRUDTSDDCTEQEPOW:6_LCLLLJBEQIQQLEXUPATQUJA(YQO<DQLQYDHg_TQ>GCLEIG_IQ<JTZLDJCAQTQIGQHDXDQLLDQQKPQKXQL8QLUTEIDGQKLQUMLQD<GCQOI>QCLLQ_BALDG<>8PG8<DDQTDCFQKXL(!G!DQOGLLQDDQQKLQQRQL<O]YQ\"SPEDXTDQXQQLEpQLPJ4QHDKVTV[IDQGKDTEXQOIQRQE7QTUPWEQRQK\n"
          ]
        }
      ]
    },
    {
      "cell_type": "code",
      "source": [
        "print(generate_text(model,\"But\",gen_size=1000))"
      ],
      "metadata": {
        "colab": {
          "base_uri": "https://localhost:8080/"
        },
        "id": "igXvt66feIys",
        "outputId": "2de337f8-4c75-4095-ba9e-ac029e0b685f"
      },
      "execution_count": 35,
      "outputs": [
        {
          "output_type": "stream",
          "name": "stdout",
          "text": [
            "But!\n",
            "                 Enter Clroous wither trues in skelf,\n",
            "  And I'll be so by thee.\n",
            "DROMIO OF EPHESUS. I have way thou brokends,\n",
            "    Sherch, once, and my art and valiant of\n",
            "    things I will.\n",
            "  PAROLLES. I do deliver'd thy bewath ingent it humble!\n",
            "  ARVIRAGUS. Now I small to Antony. Most delieves Dia\n",
            "\n",
            "        Enter ORLANDO with his villainy on his preserver reputation\n",
            "    Could every day and ease thy best; they wand\n",
            "    My daughter's power,  \n",
            "    Abtorrends, for eightory\n",
            "    If you'd distire eyes when I am full from this mouth\n",
            "    Mare fair true kings\n",
            "    Or would he speaks way it off? Your blood,\n",
            "    All deports leave up a; 'tis all be we\n",
            "    Were his froild watch they hope himself awake, and leave him that your belly pleasing span\n",
            "                                                        Exeunt\n",
            "\n",
            "\n",
            "\n",
            "\n",
            "ACT IV SCENE 5.\n",
            "Rousillon. The COUNT'S palace\n",
            "\n",
            "Enter CYMBELINE and QUEEN\n",
            "  BRTTRILUS, on our stirring knew.\n",
            "  Hor. Indeed, let's do thee reserv'd. For myself,\n",
            "    I should be denied. I shall r\n"
          ]
        }
      ]
    }
  ]
}